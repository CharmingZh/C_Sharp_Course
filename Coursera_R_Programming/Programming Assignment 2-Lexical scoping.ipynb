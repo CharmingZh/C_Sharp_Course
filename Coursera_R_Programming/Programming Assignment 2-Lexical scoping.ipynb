{
 "cells": [
  {
   "cell_type": "code",
   "execution_count": 12,
   "id": "84f69071",
   "metadata": {},
   "outputs": [],
   "source": [
    "makeVector <- function(x = numeric()) {\n",
    "    m <- NULL\n",
    "    set <- function(y) {\n",
    "        x <<- y\n",
    "        m <<- NULL\n",
    "    }\n",
    "    get <- function() x\n",
    "    setmean <- function(mean) m <<- mean\n",
    "    getmean <- function() m\n",
    "    list(set = set, get = get,\n",
    "        setmean = setmean,\n",
    "        getmean = getmean)\n",
    "}"
   ]
  },
  {
   "cell_type": "code",
   "execution_count": 13,
   "id": "629c36c7",
   "metadata": {},
   "outputs": [],
   "source": [
    "cachemean <- function(x, ...) {\n",
    "    m <- x$getmean()\n",
    "    if(!is.null(m)) {\n",
    "        message(\"Getting cached data\")\n",
    "        return(m)\n",
    "    }\n",
    "    data <- x$get()\n",
    "    m <- mean(data, ...)\n",
    "    x$setmean(m)\n",
    "    m\n",
    "}"
   ]
  },
  {
   "cell_type": "code",
   "execution_count": 34,
   "id": "6e84e774",
   "metadata": {},
   "outputs": [],
   "source": [
    "makeCacheMatrix <- function(x = matrix()) {\n",
    "    inv <- NULL                        # A placeholder of inverse matrix\n",
    "    set <- function(temp) {            # When a new value set, the inv must be reset\n",
    "        x <<- temp\n",
    "        inv <<- NULL\n",
    "    }\n",
    "    get <- function() x                # Get the matrix's data\n",
    "    setInv <- function(Inv_temp) {     # Set the inverse matrix's value\n",
    "        inv <<- Inv_temp\n",
    "    }\n",
    "    getInv <- function() inv           # Get the inverse matrix's value\n",
    "    list(\n",
    "        set = set, \n",
    "        get = get,\n",
    "        setInv = setInv,\n",
    "        getInv = getInv\n",
    "    )\n",
    "}\n",
    "\n",
    "cacheSolve <- function(x, ...) {\n",
    "        ## Return a matrix that is the inverse of 'x'\n",
    "    inv <- x$getInv()\n",
    "    if(!is.null(inv)) {\n",
    "        message(\"Cached data loading...\") # If the value of inv is not NULL, \n",
    "                                          # that means we have already calculated the inverse.\n",
    "    } else {\n",
    "        x$setInv(\n",
    "            solve( x$get() )    # Extract the original matrix and put the calculated \n",
    "                                # inverse value back into the list\n",
    "        )\n",
    "        inv <- x$getInv()       # reload the value, or it would be NULL\n",
    "    }\n",
    "    return(inv)                 # return the inverse value\n",
    "}\n"
   ]
  },
  {
   "cell_type": "code",
   "execution_count": 35,
   "id": "50f496a2",
   "metadata": {},
   "outputs": [],
   "source": [
    "test <- makeCacheMatrix()\n",
    "A <- matrix(1:4, 2, 2)"
   ]
  },
  {
   "cell_type": "code",
   "execution_count": 36,
   "id": "c120693c",
   "metadata": {},
   "outputs": [
    {
     "data": {
      "text/plain": [
       "NULL"
      ]
     },
     "metadata": {},
     "output_type": "display_data"
    }
   ],
   "source": [
    "test$set(A)\n",
    "test$getInv()"
   ]
  },
  {
   "cell_type": "code",
   "execution_count": 37,
   "id": "d888b502",
   "metadata": {},
   "outputs": [
    {
     "data": {
      "text/html": [
       "<table class=\"dataframe\">\n",
       "<caption>A matrix: 2 × 2 of type dbl</caption>\n",
       "<tbody>\n",
       "\t<tr><td>-2</td><td> 1.5</td></tr>\n",
       "\t<tr><td> 1</td><td>-0.5</td></tr>\n",
       "</tbody>\n",
       "</table>\n"
      ],
      "text/latex": [
       "A matrix: 2 × 2 of type dbl\n",
       "\\begin{tabular}{ll}\n",
       "\t -2 &  1.5\\\\\n",
       "\t  1 & -0.5\\\\\n",
       "\\end{tabular}\n"
      ],
      "text/markdown": [
       "\n",
       "A matrix: 2 × 2 of type dbl\n",
       "\n",
       "| -2 |  1.5 |\n",
       "|  1 | -0.5 |\n",
       "\n"
      ],
      "text/plain": [
       "     [,1] [,2]\n",
       "[1,] -2    1.5\n",
       "[2,]  1   -0.5"
      ]
     },
     "metadata": {},
     "output_type": "display_data"
    }
   ],
   "source": [
    "cacheSolve(test)"
   ]
  },
  {
   "cell_type": "code",
   "execution_count": 38,
   "id": "74c2bff3",
   "metadata": {},
   "outputs": [
    {
     "name": "stderr",
     "output_type": "stream",
     "text": [
      "Cached data loading...\n",
      "\n"
     ]
    },
    {
     "data": {
      "text/html": [
       "<table class=\"dataframe\">\n",
       "<caption>A matrix: 2 × 2 of type dbl</caption>\n",
       "<tbody>\n",
       "\t<tr><td>-2</td><td> 1.5</td></tr>\n",
       "\t<tr><td> 1</td><td>-0.5</td></tr>\n",
       "</tbody>\n",
       "</table>\n"
      ],
      "text/latex": [
       "A matrix: 2 × 2 of type dbl\n",
       "\\begin{tabular}{ll}\n",
       "\t -2 &  1.5\\\\\n",
       "\t  1 & -0.5\\\\\n",
       "\\end{tabular}\n"
      ],
      "text/markdown": [
       "\n",
       "A matrix: 2 × 2 of type dbl\n",
       "\n",
       "| -2 |  1.5 |\n",
       "|  1 | -0.5 |\n",
       "\n"
      ],
      "text/plain": [
       "     [,1] [,2]\n",
       "[1,] -2    1.5\n",
       "[2,]  1   -0.5"
      ]
     },
     "metadata": {},
     "output_type": "display_data"
    }
   ],
   "source": [
    "cacheSolve(test)"
   ]
  },
  {
   "cell_type": "code",
   "execution_count": null,
   "id": "d2dc181e",
   "metadata": {},
   "outputs": [],
   "source": []
  }
 ],
 "metadata": {
  "kernelspec": {
   "display_name": "R",
   "language": "R",
   "name": "ir"
  },
  "language_info": {
   "codemirror_mode": "r",
   "file_extension": ".r",
   "mimetype": "text/x-r-source",
   "name": "R",
   "pygments_lexer": "r",
   "version": "4.1.2"
  }
 },
 "nbformat": 4,
 "nbformat_minor": 5
}
